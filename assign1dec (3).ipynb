{
  "cells": [
    {
      "cell_type": "markdown",
      "metadata": {
        "id": "etwOv7YNcNPg"
      },
      "source": [
        "##         **PYTHON BASIC QUESTIONS**\n",
        "\n",
        "# 1.WHAT IS PYTHON? WHY IT IS POPULAR ?\n",
        ">> Python is a programming language,used in almost all software developments,web designing ,data analysis,machine learning ,AI, robotics and vice versa. Python becomes famous because its  easy syntax to read and understandable for  a human being.This attracted a large group of contributors for its further development.  \n",
        "\n",
        "# 2.WHAT IS INTREPRETER IN PYTHON ?\n",
        ">>An Interpreter is a program that translates high level programming language into a machine language , so computer can understands and execute its code.It translates line by line when the program is running.\n",
        "\n",
        "# 3.WHAT ARE PREDEFINED KEYWORDS IN POYTHON ?\n",
        ">>   The predefined keywords are reserved words in a programming language that have a special meaning to the compiler and cannot be used as variable in a program.\n",
        "keywords=['False', 'None', 'True','and', 'as', 'assert', 'async', 'await', 'break','class', 'continue', 'def', 'del', 'elif', 'else', 'except', 'finally', 'for', 'from', 'global', 'if','import', 'in', 'is', 'lambda', 'nonlocal', 'not', 'or', 'pass', 'raise', 'return', 'try', 'while', 'with', 'yield']\n",
        "\n",
        "#4.CAN KEYWORDS BE USED AS VARIABLE NAMES ?\n",
        ">>No, we cannot use keywords as variable names .\n",
        "\n",
        "#5.WHAT IS MUTABILITY IN PYTHON ?\n",
        ">> The data inside the data structures which can be modified,altered ,updated or the data which can be changeable is called mutability.list is a mutable datastructure.\n",
        "\n",
        "#6.WHY ARE LISTS MUTABLE,BUT TUPLES ARE IMMUTABLE !\n",
        ">> Lists are versatile data structure consists of elements that can be accessed ,modified,removed and updated so called as mutable / changeable data structure.\n",
        "  Tuples are ordered data structure ,whose data can be accessed but cannot changeable after its defined.\n",
        "\n",
        "#7.WHAT IS THE DIFFERENCE BETWEEN == AND IS OPERATORS IN PYTHON\n",
        ">>Comparison operator\"==\" is used to check wether  the values inside objects are equal or not.\n",
        " \"Is\"  operator is used to check the two objects are same object.\n",
        "print(x is y) ---->> True\n",
        "\n",
        "\n",
        "#8.WHAT ARE LOGICAL OPERATORS IN PYTHON\n",
        ">>Logical and: This operator is used in python programming, where two conditions are true the result will be True, or else the result will be False.\n",
        "  Logical or: This operator is used when two conditions are False  the result will be false .othrwise the result will be True.\n",
        "  Logical not:This operator is used to print opposite values, when the condition is True it gives False, when the condition is false it gives True.\n",
        "\n",
        "##9.WHAT IS TYPE CASTING IN PYTHON\n",
        ">>  In python different data types such as int,float,strings are can be casted into other types.\n",
        ">integer to float  --->float()\n",
        ">float to integer   -->int()\n",
        ">integer to string. -->str()\n",
        "\n",
        "##10.WHAT IS THE DIFFERENCE BETWEEN IMPLICIT AND EXPLICIT TYPE CASTING\n",
        ">>type casting is conversion of data types from one form to another form .\n",
        "  implicit conversion is automatic and the  python itself converts the data into required format. ex:integer to float\n",
        "  explicit type casting, the programmer needs to explicitly specify the conversion using casting operators or functions provided by the language.\n",
        "\n",
        "\n",
        "##11)WHAT IS THE PURPOSE OF CONDITIONAL STATEMENTS IN PYTHON\n",
        " >> conditional statements are used for decision-making purpose and executes a code block if the condition is true.\n",
        "\n",
        "\n",
        "\n",
        "\n",
        "##12)HOW DOES THE ELIF STATEMENT WORk\n",
        ">> Elif is the another if condition statement within if statement. when previous if statement fail the condition, this elif checks condition and executes the code.\n",
        "\n",
        "\n",
        "\n",
        "##13)WHAT IS THE DIFFERENCE BETWEEN FOR AND WHILE LOOPS\n",
        ">>For loop : iterates for a sequence of elements inside the loop.when the number of iterations are known.\n",
        "While loop : executes the codes  untill the condition becomes false.\n",
        "\n",
        "\n",
        "##14)DESCRIBE A SCENARIO WHERE A WHILE LOOP IS MORE SUITABLE THAN A FOR LOOP\n",
        ">> while loop is used when the number of iterations are unkown, hence it iterates numer of times untill the condition becomes false."
      ]
    },
    {
      "cell_type": "markdown",
      "source": [],
      "metadata": {
        "id": "bYaTpH05WPGa"
      }
    },
    {
      "cell_type": "code",
      "execution_count": null,
      "metadata": {
        "colab": {
          "base_uri": "https://localhost:8080/"
        },
        "id": "ngW5xyYjC0T5",
        "outputId": "f18cde41-9eaf-42bb-f2e0-d152a0e5d89f"
      },
      "outputs": [
        {
          "output_type": "stream",
          "name": "stdout",
          "text": [
            "hello,world!\n"
          ]
        }
      ],
      "source": [
        "# 1)hello world\n",
        "\n",
        "a=\"hello,world!\"\n",
        "print(a)\n"
      ]
    },
    {
      "cell_type": "code",
      "execution_count": null,
      "metadata": {
        "colab": {
          "base_uri": "https://localhost:8080/"
        },
        "id": "EfYbLFrlEc7-",
        "outputId": "f6503c47-9acd-4cc4-95ea-f9af07b0f82c"
      },
      "outputs": [
        {
          "output_type": "stream",
          "name": "stdout",
          "text": [
            "enter your name:\n",
            "nani\n",
            "how old are you?\n",
            "30\n",
            "hey nani you are -30 years old !\n"
          ]
        }
      ],
      "source": [
        "# 2) print name and age !\n",
        "\n",
        "print(\"enter your name:\")\n",
        "x=input()\n",
        "print (\"how old are you?\")\n",
        "y=input()\n",
        "print(\"hey \"+x,\"you are -\"+y,\"years old !\")"
      ]
    },
    {
      "cell_type": "code",
      "execution_count": null,
      "metadata": {
        "id": "K8yem9hCGeDc",
        "colab": {
          "base_uri": "https://localhost:8080/"
        },
        "outputId": "f7339664-9d34-4524-e35f-12399134cecb"
      },
      "outputs": [
        {
          "output_type": "stream",
          "name": "stdout",
          "text": [
            "the predefined keywords are :  ['False', 'None', 'True', 'and', 'as', 'assert', 'async', 'await', 'break', 'class', 'continue', 'def', 'del', 'elif', 'else', 'except', 'finally', 'for', 'from', 'global', 'if', 'import', 'in', 'is', 'lambda', 'nonlocal', 'not', 'or', 'pass', 'raise', 'return', 'try', 'while', 'with', 'yield']\n"
          ]
        }
      ],
      "source": [
        "# 3) predefined keywords in python\n",
        "\n",
        "import keyword        # importing keywords from library\n",
        "a=keyword.kwlist\n",
        "print(\"the predefined keywords are : \",a)\n",
        "\n",
        "\n",
        "\n"
      ]
    },
    {
      "cell_type": "code",
      "execution_count": null,
      "metadata": {
        "id": "cwGp-nbGINP6",
        "colab": {
          "base_uri": "https://localhost:8080/"
        },
        "outputId": "5f33afe2-9379-4a6d-bc19-d4ad263dcab8"
      },
      "outputs": [
        {
          "output_type": "stream",
          "name": "stdout",
          "text": [
            "enter your word to check for python keywords\n",
            "break\n",
            "you r right ! u entered  'break ' ,which is a python keyword!\n"
          ]
        }
      ],
      "source": [
        "# 4)check the input words are python keywords\n",
        "\n",
        "import keyword\n",
        "x=keyword.kwlist     # passing all the keywords into x\n",
        "\n",
        "print(\"enter your word to check for python keywords\")\n",
        "a=input()\n",
        "if a in x:           # checking condition for  input in keywords\n",
        "  print(\"you r right ! u entered  '\"+a,\"' ,which is a python keyword!\")\n",
        "else:\n",
        "  print(\"hey'amigoo' u enterd a wrong button,pls try again ...\")\n"
      ]
    },
    {
      "cell_type": "code",
      "execution_count": null,
      "metadata": {
        "id": "3jeA4qjYKc6d",
        "colab": {
          "base_uri": "https://localhost:8080/"
        },
        "outputId": "7be65277-3300-40f4-8b81-b210fc6a2a13"
      },
      "outputs": [
        {
          "output_type": "stream",
          "name": "stdout",
          "text": [
            "<class 'list'>\n",
            "<class 'tuple'>\n",
            " successfully modified list ['a', 3, 4, 5, 44, 15]\n"
          ]
        }
      ],
      "source": [
        " # 5) creating list and tuple\n",
        " a=['a',2,3,4,5,6]\n",
        " b=(8,3,4,\"a\")\n",
        " print(type(a))  #type printing\n",
        " print(type(b))\n",
        "\n",
        " '''\n",
        " list - changing elements of list\n",
        " tuple- changing elements of tuple\n",
        " '''\n",
        "\n",
        " a.append(15) # add nmber\n",
        " a[-2]=44 #interchanging number\n",
        " a.remove(2)    # removing from list\n",
        " print(\" successfully modified list\",a)\n",
        "\n",
        "\n"
      ]
    },
    {
      "cell_type": "code",
      "execution_count": null,
      "metadata": {
        "id": "pOCpCqMN8DKQ",
        "colab": {
          "base_uri": "https://localhost:8080/",
          "height": 228
        },
        "outputId": "ae61b66f-e6e7-420e-9604-1f57c9ac459c"
      },
      "outputs": [
        {
          "output_type": "stream",
          "name": "stdout",
          "text": [
            "trying to modify tuple\n"
          ]
        },
        {
          "output_type": "error",
          "ename": "AttributeError",
          "evalue": "'tuple' object has no attribute 'append'",
          "traceback": [
            "\u001b[0;31m---------------------------------------------------------------------------\u001b[0m",
            "\u001b[0;31mAttributeError\u001b[0m                            Traceback (most recent call last)",
            "\u001b[0;32m<ipython-input-98-d6f1af474280>\u001b[0m in \u001b[0;36m<cell line: 3>\u001b[0;34m()\u001b[0m\n\u001b[1;32m      1\u001b[0m \u001b[0mprint\u001b[0m\u001b[0;34m(\u001b[0m\u001b[0;34m\"trying to modify tuple\"\u001b[0m\u001b[0;34m)\u001b[0m  \u001b[0;31m# trying to modify tuple -will throw error\u001b[0m\u001b[0;34m\u001b[0m\u001b[0;34m\u001b[0m\u001b[0m\n\u001b[1;32m      2\u001b[0m \u001b[0;34m\u001b[0m\u001b[0m\n\u001b[0;32m----> 3\u001b[0;31m \u001b[0mb\u001b[0m\u001b[0;34m.\u001b[0m\u001b[0mappend\u001b[0m\u001b[0;34m(\u001b[0m\u001b[0;36m15\u001b[0m\u001b[0;34m)\u001b[0m \u001b[0;31m#trying to add nmber\u001b[0m\u001b[0;34m\u001b[0m\u001b[0;34m\u001b[0m\u001b[0m\n\u001b[0m\u001b[1;32m      4\u001b[0m \u001b[0mb\u001b[0m\u001b[0;34m[\u001b[0m\u001b[0;34m-\u001b[0m\u001b[0;36m2\u001b[0m\u001b[0;34m]\u001b[0m\u001b[0;34m=\u001b[0m\u001b[0;36m44\u001b[0m \u001b[0;31m#interchanging number\u001b[0m\u001b[0;34m\u001b[0m\u001b[0;34m\u001b[0m\u001b[0m\n\u001b[1;32m      5\u001b[0m \u001b[0mprint\u001b[0m\u001b[0;34m(\u001b[0m\u001b[0;34m\"modified tuple\"\u001b[0m\u001b[0;34m,\u001b[0m\u001b[0mb\u001b[0m\u001b[0;34m)\u001b[0m\u001b[0;34m\u001b[0m\u001b[0;34m\u001b[0m\u001b[0m\n",
            "\u001b[0;31mAttributeError\u001b[0m: 'tuple' object has no attribute 'append'"
          ]
        }
      ],
      "source": [
        "print(\"trying to modify tuple\")  # trying to modify tuple -will throw error\n",
        "\n",
        "b.append(15) #trying to add nmber\n",
        "b[-2]=44 #interchanging number\n",
        "print(\"modified tuple\",b)\n",
        "\n",
        "\n"
      ]
    },
    {
      "cell_type": "code",
      "execution_count": null,
      "metadata": {
        "id": "o-CUc39bX304",
        "colab": {
          "base_uri": "https://localhost:8080/"
        },
        "outputId": "6511ec28-e3a9-404c-f9f4-3866edae5bb2"
      },
      "outputs": [
        {
          "output_type": "stream",
          "name": "stdout",
          "text": [
            "the modified list : [1, 2, 88, 4, 'anudeep', 'danasi']\n",
            "error occured--hence cannot modify a tuple\n"
          ]
        }
      ],
      "source": [
        "# 6) same # 7) Write a function to demonstrate the behavior of mutable and immutable arguments\n",
        "\n",
        "\n",
        "box=(1,'pens','boxes')   #tuple\n",
        "name=[1,2,3,4,'nani']   #list\n",
        "\n",
        "def mut_list():\n",
        "   name.append(\"danasi\") # adding elements\n",
        "   name[4]='anudeep'   # updation\n",
        "   name.insert(2,88)   #inserting elements\n",
        "   name.remove(3)     # removing elements\n",
        "\n",
        "mut_list()             # function call\n",
        "print(\"the modified list :\",name)\n",
        "\n",
        "\n",
        "\n",
        "def mut_tuple():         #fuction defining\n",
        "   try:\n",
        "    box[2]=5\n",
        "   except TypeError:\n",
        "     print(\"error occured--hence cannot modify a tuple\")\n",
        "\n",
        "mut_tuple()\n",
        "\n",
        "\n"
      ]
    },
    {
      "cell_type": "code",
      "execution_count": null,
      "metadata": {
        "id": "8NPps3acX-g2",
        "colab": {
          "base_uri": "https://localhost:8080/"
        },
        "outputId": "f124f446-3708-4879-f031-93d6bc3fbc1c"
      },
      "outputs": [
        {
          "output_type": "stream",
          "name": "stdout",
          "text": [
            " for logical & enter value of a:\n",
            "25\n",
            "enter value of b:\n",
            "33\n",
            "<class 'int'>\n",
            "yes --> entered values are greater than 4 .\n",
            " for logical or  enter value of a:\n",
            "-9\n",
            "enter value of b:\n",
            "-5\n",
            "<class 'int'> -5\n",
            "no --> none of entered values are greater than 4 \n",
            "the opposite of false is True\n",
            "the opposite of true is  False\n"
          ]
        }
      ],
      "source": [
        "# 8)program for logical operators & | not\n",
        "\n",
        "print(\" for logical & enter value of a:\")\n",
        "a=int(input())\n",
        "print(\"enter value of b:\")\n",
        "b=int(input())\n",
        "print(type(a))\n",
        "\n",
        "if a > 4 and b > 4 :   # and operator\n",
        " print(\"yes --> entered values are greater than 4 .\")\n",
        "else:\n",
        " print(\"no --> one of entered values or both entered values are lessthan  or equal to 4 \")\n",
        "\n",
        " # logical or operator\n",
        "print(\" for logical or  enter value of a:\")\n",
        "a=int(input())\n",
        "print(\"enter value of b:\")\n",
        "b=int(input())\n",
        "print(type(a),(b))\n",
        "if a > 4 or b > 4 :  # or operator\n",
        " print(\"yes --> one of entered values or  both are greater than 4 \")\n",
        "else:\n",
        " print(\"no --> none of entered values are greater than 4 \")\n",
        "\n",
        "\n",
        " #logical not\n",
        "x = False\n",
        "print(\"the opposite of false is\",not x)\n",
        "x = True\n",
        "print(\"the opposite of true is \",not x)\n",
        "\n",
        "\n"
      ]
    },
    {
      "cell_type": "code",
      "execution_count": null,
      "metadata": {
        "id": "P1YuyFQXYEAe",
        "colab": {
          "base_uri": "https://localhost:8080/"
        },
        "outputId": "a1f9f26e-8c05-4e79-e644-4a994d3ed420"
      },
      "outputs": [
        {
          "output_type": "stream",
          "name": "stdout",
          "text": [
            "enter a number :\n",
            "55\n",
            "55 <class 'str'>\n",
            "the entered string  55   is now converted into  integer--> 55\n",
            "the entered string  55   is now converted into  float--> 55.0\n",
            "enter a float number\n",
            "69.5\n",
            "69.5 <class 'float'>\n",
            "the  entered  float 69.5 is now converted to integer 69\n",
            "the entered float  69.5   is now converted into  string--> 69.5\n",
            "enter words\n",
            "hi\n",
            "<class 'str'>\n",
            "you enetered a boolean  True\n"
          ]
        }
      ],
      "source": [
        "# 9)Write a Python program to convert user input from string to integer, float, and boolean types\n",
        "\n",
        "print(\"enter a number :\" )   #string conversion to integer\n",
        "x=(input())\n",
        "print(x,type(x))\n",
        "print(\"the entered string \",x,\"  is now converted into  integer-->\",str(x))\n",
        "print(\"the entered string \",x,\"  is now converted into  float-->\",float(x))\n",
        "\n",
        "\n",
        "print(\"enter a float number\")  # float to int conversion\n",
        "y=float(input())\n",
        "print(y,type(y))\n",
        "print(\"the  entered  float\",y,\"is now converted to integer\",int(y))\n",
        "print(\"the entered float \",y,\"  is now converted into  string-->\",str(y))\n",
        "\n",
        "#boolean\n",
        "#boolean\n",
        "print(\"enter words\")\n",
        "z=input()\n",
        "print(type(z))\n",
        "if bool(z)==True:\n",
        "  print(\"you enetered a boolean \",bool(z))\n",
        "else:\n",
        "  print(\"u didnot enter anything hence it is \",bool(0))\n",
        "\n",
        "\n",
        "\n",
        "\n",
        "\n"
      ]
    },
    {
      "cell_type": "code",
      "execution_count": null,
      "metadata": {
        "id": "63Rdy_9p6QBx",
        "colab": {
          "base_uri": "https://localhost:8080/"
        },
        "outputId": "d9e901ba-5551-4515-f939-739f09f10dd3"
      },
      "outputs": [
        {
          "output_type": "stream",
          "name": "stdout",
          "text": [
            "give integer\n",
            "23\n",
            "23 <class 'int'> is now changed to--> 23.0 <class 'float'>\n",
            "enter another number\n",
            "-99\n",
            "-99 <class 'int'> is now changed to--> -99 <class 'str'>\n",
            "enter a float number\n",
            "2.95\n",
            "2.95 <class 'float'> is now changed to --> 2 <class 'int'>\n"
          ]
        }
      ],
      "source": [
        "# 10)Write code to demonstrate type casting with list elements\n",
        "\n",
        "print(\"give integer\")\n",
        "a=int(input())\n",
        "z=float(a)     # int to float type casting\n",
        "print(a,type(a),\"is now changed to-->\",z,type(z))\n",
        "\n",
        "print(\"enter another number\")\n",
        "h=int(input())\n",
        "g=str(h)        # int to string conversion\n",
        "print(h,type(h),\"is now changed to-->\",g,type(g))\n",
        "\n",
        "print(\"enter a float number\")\n",
        "b=float(input())\n",
        "x=int(b)      # float to int conversion\n",
        "print(b,type(b),\"is now changed to -->\",x,type(x))\n",
        "\n",
        "\n"
      ]
    },
    {
      "cell_type": "code",
      "execution_count": null,
      "metadata": {
        "id": "xFLqy2jj6IXG",
        "colab": {
          "base_uri": "https://localhost:8080/"
        },
        "outputId": "3f839365-fb51-455d-da2d-1267642d7da9"
      },
      "outputs": [
        {
          "output_type": "stream",
          "name": "stdout",
          "text": [
            "enter a nmber\n",
            "-66\n",
            "the number is negitive\n"
          ]
        }
      ],
      "source": [
        "# 11) Write a program that checks if a number is positive, negative, or zero\n",
        "\n",
        "print('enter a nmber')\n",
        "x=int(input())\n",
        "if x>0:        # positive check\n",
        "  print(\"the number is positive\")\n",
        "elif x<0:      # negitive check\n",
        "      print(\"the number is negitive\")\n",
        "else:\n",
        "  print(\"the number is zero\")"
      ]
    },
    {
      "cell_type": "code",
      "execution_count": null,
      "metadata": {
        "id": "VRaPtS-eJ_KR",
        "colab": {
          "base_uri": "https://localhost:8080/"
        },
        "outputId": "779f06a9-7f18-4b4e-bcec-5a63759d3793"
      },
      "outputs": [
        {
          "output_type": "stream",
          "name": "stdout",
          "text": [
            "1\n",
            "2\n",
            "3\n",
            "4\n",
            "5\n",
            "6\n",
            "7\n",
            "8\n",
            "9\n",
            "10\n",
            "we can also print in single line\n",
            "1 2 3 4 5 6 7 8 9 10 "
          ]
        }
      ],
      "source": [
        "#12)for loop to print 1 to 10\n",
        "\n",
        "for x in range (1,11):\n",
        "   print(x)\n",
        "print(\"we can also print in single line\")\n",
        "for x in range (1,11):\n",
        "  print(x,end=' ')\n",
        "\n"
      ]
    },
    {
      "cell_type": "code",
      "execution_count": null,
      "metadata": {
        "id": "4OKtSaANWQPJ",
        "colab": {
          "base_uri": "https://localhost:8080/"
        },
        "outputId": "bbeb5e34-ca79-46a5-91cd-87fba6ddf6ea"
      },
      "outputs": [
        {
          "output_type": "stream",
          "name": "stdout",
          "text": [
            "650\n"
          ]
        }
      ],
      "source": [
        "#13)  Write a Python program to find the sum of all even numbers between 1 and 50\n",
        "a=1\n",
        "sum=0\n",
        "while a <51 :\n",
        "  if a%2==0:\n",
        "     sum=sum+a\n",
        "  a+=1\n",
        "print(sum)"
      ]
    },
    {
      "cell_type": "markdown",
      "metadata": {
        "id": "GBQBkWB62XiN"
      },
      "source": []
    },
    {
      "cell_type": "code",
      "execution_count": null,
      "metadata": {
        "id": "3tA8JSXe2pky",
        "colab": {
          "base_uri": "https://localhost:8080/"
        },
        "outputId": "cd4dd5bd-7bcd-45dd-bb35-85e5670e1cf4"
      },
      "outputs": [
        {
          "output_type": "stream",
          "name": "stdout",
          "text": [
            "enter the words\n",
            "hey buddie\n",
            "<class 'str'>\n",
            "<class 'list'> <class 'str'>\n",
            "entered word consists of  10 letters\n",
            "e\n",
            "i\n",
            "d\n",
            "d\n",
            "u\n",
            "b\n",
            " \n",
            "y\n",
            "e\n",
            "h\n",
            "the stored values in z: ['e', 'i', 'd', 'd', 'u', 'b', ' ', 'y', 'e', 'h']\n",
            "ur words :heythere\n",
            "erehtyeh\n"
          ]
        }
      ],
      "source": [
        "# 14) Write a program to reverse a string using a while loop\n",
        "\n",
        "\n",
        "c=[]  #creating empty list\n",
        "print(\"enter the words\")\n",
        "x=input() # taking strings into input\n",
        "print(type(x))\n",
        "c.append(x)  # filling empty list c with given user input\n",
        "for i in c:    # slicing single 'word' into  letters 'w','o','r','d'\n",
        "  print(type(c),type(i))  # checking types after slicing\n",
        "  print(\"entered word consists of \",len(i),\"letters\")\n",
        "  x=len(i)\n",
        "  z=[]\n",
        "  while x>0:   #while loop\n",
        "    print(i[x-1])\n",
        "    z.append(i[x-1])    #passing values into empty list z ,.in each iteration it stores values\n",
        "    x=x-1     #iteration\n",
        "print(\"the stored values in z:\",z)\n",
        "\n",
        "#we can use string operation to reverse\n",
        "a=(input(\"ur words :\"))\n",
        "print(a[::-1])\n"
      ]
    },
    {
      "cell_type": "code",
      "execution_count": null,
      "metadata": {
        "id": "XBUl0Ynb7yBo",
        "colab": {
          "base_uri": "https://localhost:8080/"
        },
        "outputId": "e164be4a-d732-43a9-c516-cd30dad5a59b"
      },
      "outputs": [
        {
          "output_type": "stream",
          "name": "stdout",
          "text": [
            "enter the factorial number !\n",
            "8\n",
            "the answer for 8 ! is : 40320\n"
          ]
        }
      ],
      "source": [
        "# 15)Write a Python program to calculate the factorial of a number provided by the user using a while loop\n",
        "print(\"enter the factorial number !\")\n",
        "n=int(input())\n",
        "f=1\n",
        "z=1\n",
        "while z<n+1:\n",
        "  f=f*z\n",
        "  z=z+1\n",
        "print(\"the answer for\",n,\"! is :\",f)\n",
        "\n",
        "\n"
      ]
    },
    {
      "cell_type": "code",
      "source": [
        "\n"
      ],
      "metadata": {
        "id": "V_zzVmT6xbT_"
      },
      "execution_count": null,
      "outputs": []
    },
    {
      "cell_type": "code",
      "source": [],
      "metadata": {
        "id": "7nfjUawl7n5E"
      },
      "execution_count": null,
      "outputs": []
    }
  ],
  "metadata": {
    "colab": {
      "provenance": []
    },
    "kernelspec": {
      "display_name": "Python 3",
      "name": "python3"
    },
    "language_info": {
      "name": "python"
    }
  },
  "nbformat": 4,
  "nbformat_minor": 0
}